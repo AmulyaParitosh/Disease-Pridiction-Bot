{
 "cells": [
  {
   "cell_type": "code",
   "execution_count": 624,
   "metadata": {},
   "outputs": [],
   "source": [
    "import pandas as pd\n",
    "import numpy as np"
   ]
  },
  {
   "cell_type": "code",
   "execution_count": 625,
   "metadata": {},
   "outputs": [],
   "source": [
    "df = pd.read_csv(\"../disease_symptoms_weight.csv\",index_col=\"Unnamed: 0\")"
   ]
  },
  {
   "cell_type": "code",
   "execution_count": 626,
   "metadata": {},
   "outputs": [
    {
     "data": {
      "text/html": [
       "<div>\n",
       "<style scoped>\n",
       "    .dataframe tbody tr th:only-of-type {\n",
       "        vertical-align: middle;\n",
       "    }\n",
       "\n",
       "    .dataframe tbody tr th {\n",
       "        vertical-align: top;\n",
       "    }\n",
       "\n",
       "    .dataframe thead th {\n",
       "        text-align: right;\n",
       "    }\n",
       "</style>\n",
       "<table border=\"1\" class=\"dataframe\">\n",
       "  <thead>\n",
       "    <tr style=\"text-align: right;\">\n",
       "      <th></th>\n",
       "      <th>description</th>\n",
       "      <th>precautions</th>\n",
       "    </tr>\n",
       "    <tr>\n",
       "      <th>disease</th>\n",
       "      <th></th>\n",
       "      <th></th>\n",
       "    </tr>\n",
       "  </thead>\n",
       "  <tbody>\n",
       "    <tr>\n",
       "      <th>(vertigo) paroymsal positional vertigo</th>\n",
       "      <td>Benign paroxysmal positional vertigo (BPPV) is...</td>\n",
       "      <td>lie down,avoid sudden change in body,avoid abr...</td>\n",
       "    </tr>\n",
       "    <tr>\n",
       "      <th>acne</th>\n",
       "      <td>Acne vulgaris is the formation of comedones, p...</td>\n",
       "      <td>bath twice,avoid fatty spicy food,drink plenty...</td>\n",
       "    </tr>\n",
       "    <tr>\n",
       "      <th>aids</th>\n",
       "      <td>Acquired immunodeficiency syndrome (AIDS) is a...</td>\n",
       "      <td>avoid open cuts,wear ppe if possible,consult d...</td>\n",
       "    </tr>\n",
       "    <tr>\n",
       "      <th>alcoholic hepatitis</th>\n",
       "      <td>Alcoholic hepatitis is a diseased, inflammator...</td>\n",
       "      <td>stop alcohol consumption,consult doctor,medica...</td>\n",
       "    </tr>\n",
       "    <tr>\n",
       "      <th>allergy</th>\n",
       "      <td>An allergy is an immune system response to a f...</td>\n",
       "      <td>apply calamine,cover area with bandage,use ice...</td>\n",
       "    </tr>\n",
       "  </tbody>\n",
       "</table>\n",
       "</div>"
      ],
      "text/plain": [
       "                                                                              description  \\\n",
       "disease                                                                                     \n",
       "(vertigo) paroymsal positional vertigo  Benign paroxysmal positional vertigo (BPPV) is...   \n",
       "acne                                    Acne vulgaris is the formation of comedones, p...   \n",
       "aids                                    Acquired immunodeficiency syndrome (AIDS) is a...   \n",
       "alcoholic hepatitis                     Alcoholic hepatitis is a diseased, inflammator...   \n",
       "allergy                                 An allergy is an immune system response to a f...   \n",
       "\n",
       "                                                                              precautions  \n",
       "disease                                                                                    \n",
       "(vertigo) paroymsal positional vertigo  lie down,avoid sudden change in body,avoid abr...  \n",
       "acne                                    bath twice,avoid fatty spicy food,drink plenty...  \n",
       "aids                                    avoid open cuts,wear ppe if possible,consult d...  \n",
       "alcoholic hepatitis                     stop alcohol consumption,consult doctor,medica...  \n",
       "allergy                                 apply calamine,cover area with bandage,use ice...  "
      ]
     },
     "execution_count": 626,
     "metadata": {},
     "output_type": "execute_result"
    }
   ],
   "source": [
    "dis_df=pd.read_csv('../data.csv',index_col='disease')\n",
    "dis_df.head()"
   ]
  },
  {
   "cell_type": "code",
   "execution_count": 627,
   "metadata": {},
   "outputs": [
    {
     "data": {
      "text/html": [
       "<div>\n",
       "<style scoped>\n",
       "    .dataframe tbody tr th:only-of-type {\n",
       "        vertical-align: middle;\n",
       "    }\n",
       "\n",
       "    .dataframe tbody tr th {\n",
       "        vertical-align: top;\n",
       "    }\n",
       "\n",
       "    .dataframe thead th {\n",
       "        text-align: right;\n",
       "    }\n",
       "</style>\n",
       "<table border=\"1\" class=\"dataframe\">\n",
       "  <thead>\n",
       "    <tr style=\"text-align: right;\">\n",
       "      <th></th>\n",
       "      <th>abdominal_pain</th>\n",
       "      <th>abnormal_menstruation</th>\n",
       "      <th>acidity</th>\n",
       "      <th>acute_liver_failure</th>\n",
       "      <th>altered_sensorium</th>\n",
       "      <th>anxiety</th>\n",
       "      <th>back_pain</th>\n",
       "      <th>belly_pain</th>\n",
       "      <th>blackheads</th>\n",
       "      <th>bladder_discomfort</th>\n",
       "      <th>...</th>\n",
       "      <th>weakness_in_limbs</th>\n",
       "      <th>weakness_of_one_body_side</th>\n",
       "      <th>weight_gain</th>\n",
       "      <th>weight_loss</th>\n",
       "      <th>yellow_crust_ooze</th>\n",
       "      <th>yellow_urine</th>\n",
       "      <th>yellowing_of_eyes</th>\n",
       "      <th>yellowish_skin</th>\n",
       "      <th>Disease</th>\n",
       "      <th>normalised_mean</th>\n",
       "    </tr>\n",
       "  </thead>\n",
       "  <tbody>\n",
       "    <tr>\n",
       "      <th>1186</th>\n",
       "      <td>0</td>\n",
       "      <td>0</td>\n",
       "      <td>0</td>\n",
       "      <td>0</td>\n",
       "      <td>0</td>\n",
       "      <td>0</td>\n",
       "      <td>0</td>\n",
       "      <td>0</td>\n",
       "      <td>0</td>\n",
       "      <td>0</td>\n",
       "      <td>...</td>\n",
       "      <td>0</td>\n",
       "      <td>0</td>\n",
       "      <td>0</td>\n",
       "      <td>0</td>\n",
       "      <td>0</td>\n",
       "      <td>0</td>\n",
       "      <td>0</td>\n",
       "      <td>0</td>\n",
       "      <td>(vertigo) paroymsal positional vertigo</td>\n",
       "      <td>4.6</td>\n",
       "    </tr>\n",
       "    <tr>\n",
       "      <th>2865</th>\n",
       "      <td>0</td>\n",
       "      <td>0</td>\n",
       "      <td>0</td>\n",
       "      <td>0</td>\n",
       "      <td>0</td>\n",
       "      <td>0</td>\n",
       "      <td>0</td>\n",
       "      <td>0</td>\n",
       "      <td>0</td>\n",
       "      <td>0</td>\n",
       "      <td>...</td>\n",
       "      <td>0</td>\n",
       "      <td>0</td>\n",
       "      <td>0</td>\n",
       "      <td>0</td>\n",
       "      <td>0</td>\n",
       "      <td>0</td>\n",
       "      <td>0</td>\n",
       "      <td>0</td>\n",
       "      <td>(vertigo) paroymsal positional vertigo</td>\n",
       "      <td>4.5</td>\n",
       "    </tr>\n",
       "    <tr>\n",
       "      <th>1187</th>\n",
       "      <td>0</td>\n",
       "      <td>0</td>\n",
       "      <td>0</td>\n",
       "      <td>0</td>\n",
       "      <td>0</td>\n",
       "      <td>0</td>\n",
       "      <td>0</td>\n",
       "      <td>0</td>\n",
       "      <td>0</td>\n",
       "      <td>0</td>\n",
       "      <td>...</td>\n",
       "      <td>0</td>\n",
       "      <td>0</td>\n",
       "      <td>0</td>\n",
       "      <td>0</td>\n",
       "      <td>0</td>\n",
       "      <td>0</td>\n",
       "      <td>0</td>\n",
       "      <td>0</td>\n",
       "      <td>(vertigo) paroymsal positional vertigo</td>\n",
       "      <td>4.6</td>\n",
       "    </tr>\n",
       "    <tr>\n",
       "      <th>4136</th>\n",
       "      <td>0</td>\n",
       "      <td>0</td>\n",
       "      <td>0</td>\n",
       "      <td>0</td>\n",
       "      <td>0</td>\n",
       "      <td>0</td>\n",
       "      <td>0</td>\n",
       "      <td>0</td>\n",
       "      <td>0</td>\n",
       "      <td>0</td>\n",
       "      <td>...</td>\n",
       "      <td>0</td>\n",
       "      <td>0</td>\n",
       "      <td>0</td>\n",
       "      <td>0</td>\n",
       "      <td>0</td>\n",
       "      <td>0</td>\n",
       "      <td>0</td>\n",
       "      <td>0</td>\n",
       "      <td>(vertigo) paroymsal positional vertigo</td>\n",
       "      <td>4.5</td>\n",
       "    </tr>\n",
       "    <tr>\n",
       "      <th>1188</th>\n",
       "      <td>0</td>\n",
       "      <td>0</td>\n",
       "      <td>0</td>\n",
       "      <td>0</td>\n",
       "      <td>0</td>\n",
       "      <td>0</td>\n",
       "      <td>0</td>\n",
       "      <td>0</td>\n",
       "      <td>0</td>\n",
       "      <td>0</td>\n",
       "      <td>...</td>\n",
       "      <td>0</td>\n",
       "      <td>0</td>\n",
       "      <td>0</td>\n",
       "      <td>0</td>\n",
       "      <td>0</td>\n",
       "      <td>0</td>\n",
       "      <td>0</td>\n",
       "      <td>0</td>\n",
       "      <td>(vertigo) paroymsal positional vertigo</td>\n",
       "      <td>4.5</td>\n",
       "    </tr>\n",
       "  </tbody>\n",
       "</table>\n",
       "<p>5 rows × 133 columns</p>\n",
       "</div>"
      ],
      "text/plain": [
       "      abdominal_pain  abnormal_menstruation  acidity  acute_liver_failure  \\\n",
       "1186               0                      0        0                    0   \n",
       "2865               0                      0        0                    0   \n",
       "1187               0                      0        0                    0   \n",
       "4136               0                      0        0                    0   \n",
       "1188               0                      0        0                    0   \n",
       "\n",
       "      altered_sensorium  anxiety  back_pain  belly_pain  blackheads  \\\n",
       "1186                  0        0          0           0           0   \n",
       "2865                  0        0          0           0           0   \n",
       "1187                  0        0          0           0           0   \n",
       "4136                  0        0          0           0           0   \n",
       "1188                  0        0          0           0           0   \n",
       "\n",
       "      bladder_discomfort  ...  weakness_in_limbs  weakness_of_one_body_side  \\\n",
       "1186                   0  ...                  0                          0   \n",
       "2865                   0  ...                  0                          0   \n",
       "1187                   0  ...                  0                          0   \n",
       "4136                   0  ...                  0                          0   \n",
       "1188                   0  ...                  0                          0   \n",
       "\n",
       "      weight_gain  weight_loss  yellow_crust_ooze  yellow_urine  \\\n",
       "1186            0            0                  0             0   \n",
       "2865            0            0                  0             0   \n",
       "1187            0            0                  0             0   \n",
       "4136            0            0                  0             0   \n",
       "1188            0            0                  0             0   \n",
       "\n",
       "      yellowing_of_eyes  yellowish_skin  \\\n",
       "1186                  0               0   \n",
       "2865                  0               0   \n",
       "1187                  0               0   \n",
       "4136                  0               0   \n",
       "1188                  0               0   \n",
       "\n",
       "                                     Disease  normalised_mean  \n",
       "1186  (vertigo) paroymsal positional vertigo              4.6  \n",
       "2865  (vertigo) paroymsal positional vertigo              4.5  \n",
       "1187  (vertigo) paroymsal positional vertigo              4.6  \n",
       "4136  (vertigo) paroymsal positional vertigo              4.5  \n",
       "1188  (vertigo) paroymsal positional vertigo              4.5  \n",
       "\n",
       "[5 rows x 133 columns]"
      ]
     },
     "execution_count": 627,
     "metadata": {},
     "output_type": "execute_result"
    }
   ],
   "source": [
    "df.head()"
   ]
  },
  {
   "cell_type": "code",
   "execution_count": 628,
   "metadata": {},
   "outputs": [],
   "source": [
    "data = df.iloc[:,:-2]\n",
    "label = df['Disease']"
   ]
  },
  {
   "cell_type": "code",
   "execution_count": 629,
   "metadata": {},
   "outputs": [],
   "source": [
    "from sklearn.model_selection import train_test_split\n",
    "from sklearn.metrics import accuracy_score,precision_score,f1_score"
   ]
  },
  {
   "cell_type": "code",
   "execution_count": 630,
   "metadata": {},
   "outputs": [],
   "source": [
    "x_train,x_test,y_train,y_test = train_test_split(data,label,test_size=0.3,shuffle=True)"
   ]
  },
  {
   "cell_type": "code",
   "execution_count": 631,
   "metadata": {},
   "outputs": [
    {
     "data": {
      "text/html": [
       "<div>\n",
       "<style scoped>\n",
       "    .dataframe tbody tr th:only-of-type {\n",
       "        vertical-align: middle;\n",
       "    }\n",
       "\n",
       "    .dataframe tbody tr th {\n",
       "        vertical-align: top;\n",
       "    }\n",
       "\n",
       "    .dataframe thead th {\n",
       "        text-align: right;\n",
       "    }\n",
       "</style>\n",
       "<table border=\"1\" class=\"dataframe\">\n",
       "  <thead>\n",
       "    <tr style=\"text-align: right;\">\n",
       "      <th></th>\n",
       "      <th>weight</th>\n",
       "    </tr>\n",
       "    <tr>\n",
       "      <th>Symptom</th>\n",
       "      <th></th>\n",
       "    </tr>\n",
       "  </thead>\n",
       "  <tbody>\n",
       "    <tr>\n",
       "      <th>abdominal_pain</th>\n",
       "      <td>4</td>\n",
       "    </tr>\n",
       "    <tr>\n",
       "      <th>abnormal_menstruation</th>\n",
       "      <td>6</td>\n",
       "    </tr>\n",
       "    <tr>\n",
       "      <th>acidity</th>\n",
       "      <td>3</td>\n",
       "    </tr>\n",
       "    <tr>\n",
       "      <th>acute_liver_failure</th>\n",
       "      <td>6</td>\n",
       "    </tr>\n",
       "    <tr>\n",
       "      <th>altered_sensorium</th>\n",
       "      <td>2</td>\n",
       "    </tr>\n",
       "    <tr>\n",
       "      <th>...</th>\n",
       "      <td>...</td>\n",
       "    </tr>\n",
       "    <tr>\n",
       "      <th>weight_loss</th>\n",
       "      <td>3</td>\n",
       "    </tr>\n",
       "    <tr>\n",
       "      <th>yellow_crust_ooze</th>\n",
       "      <td>3</td>\n",
       "    </tr>\n",
       "    <tr>\n",
       "      <th>yellow_urine</th>\n",
       "      <td>4</td>\n",
       "    </tr>\n",
       "    <tr>\n",
       "      <th>yellowing_of_eyes</th>\n",
       "      <td>4</td>\n",
       "    </tr>\n",
       "    <tr>\n",
       "      <th>yellowish_skin</th>\n",
       "      <td>3</td>\n",
       "    </tr>\n",
       "  </tbody>\n",
       "</table>\n",
       "<p>131 rows × 1 columns</p>\n",
       "</div>"
      ],
      "text/plain": [
       "                       weight\n",
       "Symptom                      \n",
       "abdominal_pain              4\n",
       "abnormal_menstruation       6\n",
       "acidity                     3\n",
       "acute_liver_failure         6\n",
       "altered_sensorium           2\n",
       "...                       ...\n",
       "weight_loss                 3\n",
       "yellow_crust_ooze           3\n",
       "yellow_urine                4\n",
       "yellowing_of_eyes           4\n",
       "yellowish_skin              3\n",
       "\n",
       "[131 rows x 1 columns]"
      ]
     },
     "execution_count": 631,
     "metadata": {},
     "output_type": "execute_result"
    }
   ],
   "source": [
    "symp_weight_df = pd.read_csv('../symptom_severity.csv')\n",
    "symp_weight_df[\"Symptom\"].drop_duplicates(inplace=True)\n",
    "symp_weight_df.set_index(\"Symptom\", inplace=True)\n",
    "symp_weight_df.sort_index(inplace=True)\n",
    "symp_weight_df"
   ]
  },
  {
   "cell_type": "code",
   "execution_count": 632,
   "metadata": {},
   "outputs": [],
   "source": [
    "sympts=df.iloc[:,:-2].columns.tolist()"
   ]
  },
  {
   "cell_type": "code",
   "execution_count": 633,
   "metadata": {},
   "outputs": [],
   "source": [
    "def weightadder(in_lst):\n",
    "\n",
    "    input_symptoms = in_lst\n",
    "\n",
    "    input_symptoms_list = []\n",
    "\n",
    "    for s in sympts:\n",
    "        if s in input_symptoms:\n",
    "            weight = symp_weight_df.loc[s, \"weight\"]\n",
    "            input_symptoms_list.append(weight)\n",
    "        else:\n",
    "            input_symptoms_list.append(0)\n",
    "\n",
    "    return input_symptoms_list\n"
   ]
  },
  {
   "cell_type": "code",
   "execution_count": 634,
   "metadata": {},
   "outputs": [
    {
     "name": "stdout",
     "output_type": "stream",
     "text": [
      "[0, 0, 0, 0, 0, 0, 0, 0, 0, 0, 0, 0, 0, 0, 0, 0, 0, 0, 0, 0, 0, 0, 0, 0, 0, 0, 0, 0, 0, 0, 0, 0, 0, 0, 0, 0, 0, 0, 0, 0, 0, 0, 0, 0, 0, 0, 0, 0, 0, 0, 0, 0, 0, 0, 0, 0, 0, 0, 0, 0, 0, 0, 3, 0, 5, 0, 0, 0, 0, 0, 0, 0, 0, 0, 0, 0, 0, 0, 0, 0, 0, 0, 0, 0, 0, 0, 0, 0, 0, 0, 0, 0, 0, 5, 0, 0, 0, 0, 0, 0, 0, 0, 0, 0, 0, 0, 0, 0, 0, 0, 0, 0, 0, 0, 0, 0, 0, 0, 0, 0, 0, 0, 0, 0, 0, 0, 0, 0, 0, 0, 0]\n"
     ]
    }
   ],
   "source": [
    "# to_pre = weightadder([\"unsteadiness\", \"spinning_movements\", \"headache\"])\n",
    "# to_pre = weightadder([\"spinning_movements\", \"headache\"])\n",
    "to_pre = weightadder([\"runny_nose\",\"loss_of_smell\",\"mild_fever\"])\n",
    "\n",
    "print(to_pre)\n",
    "# to_pre = pd.DataFrame(to_pre).transpose()\n",
    "to_pre = pd.DataFrame(to_pre)\n",
    "sy = to_pre.loc[to_pre[0]!=0]\n",
    "to_pre = to_pre.transpose()\n",
    "to_pre.columns = sympts"
   ]
  },
  {
   "cell_type": "markdown",
   "metadata": {},
   "source": [
    "### RandomForest"
   ]
  },
  {
   "cell_type": "code",
   "execution_count": 635,
   "metadata": {},
   "outputs": [],
   "source": [
    "from sklearn.ensemble import RandomForestClassifier"
   ]
  },
  {
   "cell_type": "code",
   "execution_count": 636,
   "metadata": {},
   "outputs": [],
   "source": [
    "m1 = RandomForestClassifier()"
   ]
  },
  {
   "cell_type": "code",
   "execution_count": 637,
   "metadata": {},
   "outputs": [
    {
     "data": {
      "text/plain": [
       "RandomForestClassifier()"
      ]
     },
     "execution_count": 637,
     "metadata": {},
     "output_type": "execute_result"
    }
   ],
   "source": [
    "m1.fit(x_train,y_train)"
   ]
  },
  {
   "cell_type": "code",
   "execution_count": 638,
   "metadata": {},
   "outputs": [],
   "source": [
    "preds = m1.predict(x_test)"
   ]
  },
  {
   "cell_type": "code",
   "execution_count": 639,
   "metadata": {},
   "outputs": [
    {
     "name": "stdout",
     "output_type": "stream",
     "text": [
      "F1-score% =  100.0\n",
      "Accuracy% =  100.0\n",
      "Precision =  1.0\n"
     ]
    }
   ],
   "source": [
    "f1 = f1_score(y_test, preds, average='macro') * 100\n",
    "acu = accuracy_score(y_test, preds)*100\n",
    "pre = precision_score(y_test, preds, average=\"weighted\")\n",
    "print('F1-score% = ', f1)\n",
    "print('Accuracy% = ', acu)\n",
    "print('Precision = ', pre)\n"
   ]
  },
  {
   "cell_type": "code",
   "execution_count": 640,
   "metadata": {},
   "outputs": [
    {
     "data": {
      "text/plain": [
       "array([[0.01, 0.04, 0.04, 0.  , 0.01, 0.02, 0.02, 0.01, 0.07, 0.  , 0.22,\n",
       "        0.  , 0.01, 0.03, 0.  , 0.01, 0.03, 0.  , 0.01, 0.14, 0.  , 0.  ,\n",
       "        0.  , 0.  , 0.01, 0.  , 0.  , 0.  , 0.02, 0.  , 0.  , 0.02, 0.01,\n",
       "        0.05, 0.  , 0.  , 0.01, 0.04, 0.  , 0.15, 0.02]])"
      ]
     },
     "execution_count": 640,
     "metadata": {},
     "output_type": "execute_result"
    }
   ],
   "source": [
    "p_proba = m1.predict_proba(to_pre)\n",
    "p_proba"
   ]
  },
  {
   "cell_type": "code",
   "execution_count": 641,
   "metadata": {},
   "outputs": [],
   "source": [
    "top_n_category_predictions = np.argsort(p_proba)[:, :-41:-1]\n",
    "order = list(top_n_category_predictions[0])[:10]"
   ]
  },
  {
   "cell_type": "code",
   "execution_count": 642,
   "metadata": {},
   "outputs": [
    {
     "data": {
      "text/plain": [
       "['common cold',\n",
       " 'urinary tract infection',\n",
       " 'hepatitis a',\n",
       " 'chicken pox',\n",
       " 'paralysis (brain hemorrhage)',\n",
       " 'acne',\n",
       " 'tuberculosis',\n",
       " 'aids',\n",
       " 'gastroenteritis',\n",
       " 'dimorphic hemorrhoids(piles)']"
      ]
     },
     "execution_count": 642,
     "metadata": {},
     "output_type": "execute_result"
    }
   ],
   "source": [
    "dis_series = pd.Series(dis_df.index)\n",
    "order = dis_series.loc[order].values.tolist()\n",
    "order"
   ]
  },
  {
   "cell_type": "markdown",
   "metadata": {},
   "source": [
    "### DecisioTree"
   ]
  },
  {
   "cell_type": "code",
   "execution_count": 643,
   "metadata": {},
   "outputs": [],
   "source": [
    "from sklearn.tree import DecisionTreeClassifier "
   ]
  },
  {
   "cell_type": "code",
   "execution_count": 644,
   "metadata": {},
   "outputs": [],
   "source": [
    "m1 = DecisionTreeClassifier()"
   ]
  },
  {
   "cell_type": "code",
   "execution_count": 645,
   "metadata": {},
   "outputs": [
    {
     "data": {
      "text/plain": [
       "DecisionTreeClassifier()"
      ]
     },
     "execution_count": 645,
     "metadata": {},
     "output_type": "execute_result"
    }
   ],
   "source": [
    "m1.fit(x_train,y_train)"
   ]
  },
  {
   "cell_type": "code",
   "execution_count": 646,
   "metadata": {},
   "outputs": [],
   "source": [
    "preds = m1.predict(x_test)"
   ]
  },
  {
   "cell_type": "code",
   "execution_count": 647,
   "metadata": {},
   "outputs": [
    {
     "name": "stdout",
     "output_type": "stream",
     "text": [
      "F1-score% =  100.0\n",
      "Accuracy% =  100.0\n",
      "Precision =  1.0\n"
     ]
    }
   ],
   "source": [
    "f1 = f1_score(y_test, preds, average='macro') * 100\n",
    "acu = accuracy_score(y_test, preds)*100\n",
    "pre = precision_score(y_test, preds, average=\"weighted\")\n",
    "print('F1-score% = ', f1)\n",
    "print('Accuracy% = ', acu)\n",
    "print('Precision = ', pre)\n"
   ]
  },
  {
   "cell_type": "code",
   "execution_count": 648,
   "metadata": {},
   "outputs": [
    {
     "data": {
      "text/plain": [
       "array([[0., 0., 0., 0., 0., 0., 0., 0., 0., 0., 0., 0., 0., 0., 0., 0.,\n",
       "        0., 0., 0., 0., 0., 0., 0., 0., 0., 0., 0., 0., 0., 0., 0., 0.,\n",
       "        1., 0., 0., 0., 0., 0., 0., 0., 0.]])"
      ]
     },
     "execution_count": 648,
     "metadata": {},
     "output_type": "execute_result"
    }
   ],
   "source": [
    "p_proba = m1.predict_proba(to_pre)\n",
    "p_proba"
   ]
  },
  {
   "cell_type": "code",
   "execution_count": 649,
   "metadata": {},
   "outputs": [],
   "source": [
    "top_n_category_predictions = np.argsort(p_proba)[:, :-41:-1]\n",
    "order = list(top_n_category_predictions[0])[:10]"
   ]
  },
  {
   "cell_type": "code",
   "execution_count": 650,
   "metadata": {},
   "outputs": [
    {
     "data": {
      "text/plain": [
       "['osteoarthristis',\n",
       " 'varicose veins',\n",
       " 'chronic cholestasis',\n",
       " 'gerd',\n",
       " 'gastroenteritis',\n",
       " 'fungal infection',\n",
       " 'drug reaction',\n",
       " 'dimorphic hemorrhoids(piles)',\n",
       " 'diabetes',\n",
       " 'dengue']"
      ]
     },
     "execution_count": 650,
     "metadata": {},
     "output_type": "execute_result"
    }
   ],
   "source": [
    "dis_series = pd.Series(dis_df.index)\n",
    "order = dis_series.loc[order].values.tolist()\n",
    "order"
   ]
  },
  {
   "cell_type": "markdown",
   "metadata": {},
   "source": [
    "### SVM"
   ]
  },
  {
   "cell_type": "code",
   "execution_count": 651,
   "metadata": {},
   "outputs": [],
   "source": [
    "from sklearn.svm import SVC "
   ]
  },
  {
   "cell_type": "code",
   "execution_count": 652,
   "metadata": {},
   "outputs": [],
   "source": [
    "m1 = SVC(probability=True)"
   ]
  },
  {
   "cell_type": "code",
   "execution_count": 653,
   "metadata": {},
   "outputs": [
    {
     "data": {
      "text/plain": [
       "SVC(probability=True)"
      ]
     },
     "execution_count": 653,
     "metadata": {},
     "output_type": "execute_result"
    }
   ],
   "source": [
    "m1.fit(x_train,y_train)"
   ]
  },
  {
   "cell_type": "code",
   "execution_count": 654,
   "metadata": {},
   "outputs": [],
   "source": [
    "preds = m1.predict(x_test)"
   ]
  },
  {
   "cell_type": "code",
   "execution_count": 655,
   "metadata": {},
   "outputs": [
    {
     "name": "stdout",
     "output_type": "stream",
     "text": [
      "F1-score% =  100.0\n",
      "Accuracy% =  100.0\n",
      "Precision =  1.0\n"
     ]
    }
   ],
   "source": [
    "f1 = f1_score(y_test, preds, average='macro') * 100\n",
    "acu = accuracy_score(y_test, preds)*100\n",
    "pre = precision_score(y_test, preds, average=\"weighted\")\n",
    "print('F1-score% = ', f1)\n",
    "print('Accuracy% = ', acu)\n",
    "print('Precision = ', pre)\n"
   ]
  },
  {
   "cell_type": "code",
   "execution_count": 656,
   "metadata": {},
   "outputs": [
    {
     "data": {
      "text/plain": [
       "array([[0.01521123, 0.12937087, 0.02690811, 0.0111892 , 0.04621299,\n",
       "        0.03658165, 0.01629538, 0.02443385, 0.01344678, 0.01832269,\n",
       "        0.00615343, 0.00673938, 0.00841003, 0.01546678, 0.02563748,\n",
       "        0.07482646, 0.03748831, 0.01587903, 0.03876218, 0.0137641 ,\n",
       "        0.00676162, 0.01891794, 0.00936875, 0.00523814, 0.03105461,\n",
       "        0.00837494, 0.00717209, 0.00570398, 0.04212105, 0.01476178,\n",
       "        0.01307159, 0.01380483, 0.03488491, 0.06541563, 0.01529056,\n",
       "        0.00608449, 0.05787561, 0.00517488, 0.00596883, 0.04018316,\n",
       "        0.01167063]])"
      ]
     },
     "execution_count": 656,
     "metadata": {},
     "output_type": "execute_result"
    }
   ],
   "source": [
    "p_proba = m1.predict_proba(to_pre)\n",
    "p_proba"
   ]
  },
  {
   "cell_type": "code",
   "execution_count": 657,
   "metadata": {},
   "outputs": [],
   "source": [
    "top_n_category_predictions = np.argsort(p_proba)[:, :-41:-1]\n",
    "order = list(top_n_category_predictions[0])[:10]"
   ]
  },
  {
   "cell_type": "code",
   "execution_count": 658,
   "metadata": {},
   "outputs": [
    {
     "data": {
      "text/plain": [
       "['acne',\n",
       " 'fungal infection',\n",
       " 'paralysis (brain hemorrhage)',\n",
       " 'psoriasis',\n",
       " 'allergy',\n",
       " 'impetigo',\n",
       " 'urinary tract infection',\n",
       " 'heart attack',\n",
       " 'gastroenteritis',\n",
       " 'arthritis']"
      ]
     },
     "execution_count": 658,
     "metadata": {},
     "output_type": "execute_result"
    }
   ],
   "source": [
    "dis_series = pd.Series(dis_df.index)\n",
    "order = dis_series.loc[order].values.tolist()\n",
    "order"
   ]
  }
 ],
 "metadata": {
  "interpreter": {
   "hash": "8c10a6dcdf646c628d2499f653d61cb5480067c67e4fac9d246e1b61c4f77867"
  },
  "kernelspec": {
   "display_name": "Python 3.9.5 64-bit ('machineLearning_and_dataScience': virtualenv)",
   "language": "python",
   "name": "python3"
  },
  "language_info": {
   "codemirror_mode": {
    "name": "ipython",
    "version": 3
   },
   "file_extension": ".py",
   "mimetype": "text/x-python",
   "name": "python",
   "nbconvert_exporter": "python",
   "pygments_lexer": "ipython3",
   "version": "3.9.5"
  },
  "orig_nbformat": 4
 },
 "nbformat": 4,
 "nbformat_minor": 2
}
