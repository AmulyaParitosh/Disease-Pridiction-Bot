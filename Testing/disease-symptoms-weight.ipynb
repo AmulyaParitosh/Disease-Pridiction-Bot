{
 "cells": [
  {
   "cell_type": "code",
   "execution_count": 12,
   "metadata": {},
   "outputs": [],
   "source": [
    "import pandas as pd\n",
    "import numpy as np"
   ]
  },
  {
   "cell_type": "code",
   "execution_count": 13,
   "metadata": {},
   "outputs": [],
   "source": [
    "dis_sym_df = pd.read_csv('disease_symptoms.csv')\n",
    "sym_wgh_df = pd.read_csv('../symptom_severity.csv')"
   ]
  },
  {
   "cell_type": "code",
   "execution_count": 14,
   "metadata": {},
   "outputs": [],
   "source": [
    "dis_sym_df.sort_values('Disease',inplace=True)\n",
    "sym_wgh_df.sort_values('Symptom',inplace=True)\n"
   ]
  },
  {
   "cell_type": "code",
   "execution_count": 15,
   "metadata": {},
   "outputs": [],
   "source": [
    "dis_sym_df['list_of_symptoms'] = dis_sym_df.agg(list,axis=1)"
   ]
  },
  {
   "cell_type": "code",
   "execution_count": 16,
   "metadata": {},
   "outputs": [
    {
     "data": {
      "text/html": [
       "<div>\n",
       "<style scoped>\n",
       "    .dataframe tbody tr th:only-of-type {\n",
       "        vertical-align: middle;\n",
       "    }\n",
       "\n",
       "    .dataframe tbody tr th {\n",
       "        vertical-align: top;\n",
       "    }\n",
       "\n",
       "    .dataframe thead th {\n",
       "        text-align: right;\n",
       "    }\n",
       "</style>\n",
       "<table border=\"1\" class=\"dataframe\">\n",
       "  <thead>\n",
       "    <tr style=\"text-align: right;\">\n",
       "      <th></th>\n",
       "      <th>weight</th>\n",
       "    </tr>\n",
       "    <tr>\n",
       "      <th>Symptom</th>\n",
       "      <th></th>\n",
       "    </tr>\n",
       "  </thead>\n",
       "  <tbody>\n",
       "    <tr>\n",
       "      <th>abdominal_pain</th>\n",
       "      <td>4</td>\n",
       "    </tr>\n",
       "    <tr>\n",
       "      <th>abnormal_menstruation</th>\n",
       "      <td>6</td>\n",
       "    </tr>\n",
       "    <tr>\n",
       "      <th>acidity</th>\n",
       "      <td>3</td>\n",
       "    </tr>\n",
       "    <tr>\n",
       "      <th>acute_liver_failure</th>\n",
       "      <td>6</td>\n",
       "    </tr>\n",
       "    <tr>\n",
       "      <th>altered_sensorium</th>\n",
       "      <td>2</td>\n",
       "    </tr>\n",
       "  </tbody>\n",
       "</table>\n",
       "</div>"
      ],
      "text/plain": [
       "                       weight\n",
       "Symptom                      \n",
       "abdominal_pain              4\n",
       "abnormal_menstruation       6\n",
       "acidity                     3\n",
       "acute_liver_failure         6\n",
       "altered_sensorium           2"
      ]
     },
     "execution_count": 16,
     "metadata": {},
     "output_type": "execute_result"
    }
   ],
   "source": [
    "sym_wgh_df['Symptom'].drop_duplicates(inplace=True)\n",
    "sym_wgh_df.set_index('Symptom',inplace=True)\n",
    "sym_wgh_df.head()"
   ]
  },
  {
   "cell_type": "code",
   "execution_count": 17,
   "metadata": {},
   "outputs": [],
   "source": [
    "symptoms = sym_wgh_df.index.unique()"
   ]
  },
  {
   "cell_type": "code",
   "execution_count": 18,
   "metadata": {},
   "outputs": [],
   "source": [
    "dis_sym_df.fillna(0,inplace=True)"
   ]
  },
  {
   "cell_type": "code",
   "execution_count": 19,
   "metadata": {},
   "outputs": [],
   "source": [
    "symptoms_df = pd.DataFrame(columns=symptoms,index=dis_sym_df.index)"
   ]
  },
  {
   "cell_type": "code",
   "execution_count": 20,
   "metadata": {},
   "outputs": [],
   "source": [
    "symptoms_df['list_of_symptoms'] = dis_sym_df['list_of_symptoms']\n"
   ]
  },
  {
   "cell_type": "code",
   "execution_count": 21,
   "metadata": {},
   "outputs": [],
   "source": [
    "func = lambda x: sym_wgh_df.loc[symp,'weight'] if symp in x['list_of_symptoms'] else 0\n",
    "for symp in symptoms:\n",
    "    symptoms_df[symp] = symptoms_df.apply(func,axis=1)"
   ]
  },
  {
   "cell_type": "code",
   "execution_count": 22,
   "metadata": {},
   "outputs": [],
   "source": [
    "symptoms_df.drop('list_of_symptoms',axis=1,inplace=True)"
   ]
  },
  {
   "cell_type": "code",
   "execution_count": 23,
   "metadata": {},
   "outputs": [],
   "source": [
    "symptoms_df['Disease'] = dis_sym_df['Disease']"
   ]
  },
  {
   "cell_type": "code",
   "execution_count": 24,
   "metadata": {},
   "outputs": [],
   "source": [
    "def sample_mean(row):\n",
    "\tsum=0\n",
    "\tn=0\n",
    "\tfor e in row:\n",
    "\t\tif e!=0:\n",
    "\t\t\tsum+=e\n",
    "\t\t\tn+=1\n",
    "\tmean = sum/n\n",
    "\treturn mean"
   ]
  },
  {
   "cell_type": "code",
   "execution_count": 25,
   "metadata": {},
   "outputs": [],
   "source": [
    "symptoms_df[\"normalised_mean\"] = pd.NA\n",
    "symptoms_df[\"normalised_mean\"] = symptoms_df[\"normalised_mean\"].map(lambda x: '{0:.6f}'.format(x))\n",
    "symptoms_df[\"normalised_mean\"] = symptoms_df.iloc[:,:-2].apply(sample_mean,axis=1)"
   ]
  },
  {
   "cell_type": "code",
   "execution_count": 26,
   "metadata": {},
   "outputs": [],
   "source": [
    "symptoms_df[\"Disease\"] = symptoms_df[\"Disease\"].map(lambda x:x.lower())"
   ]
  },
  {
   "cell_type": "code",
   "execution_count": 27,
   "metadata": {},
   "outputs": [
    {
     "data": {
      "text/html": [
       "<div>\n",
       "<style scoped>\n",
       "    .dataframe tbody tr th:only-of-type {\n",
       "        vertical-align: middle;\n",
       "    }\n",
       "\n",
       "    .dataframe tbody tr th {\n",
       "        vertical-align: top;\n",
       "    }\n",
       "\n",
       "    .dataframe thead th {\n",
       "        text-align: right;\n",
       "    }\n",
       "</style>\n",
       "<table border=\"1\" class=\"dataframe\">\n",
       "  <thead>\n",
       "    <tr style=\"text-align: right;\">\n",
       "      <th>Symptom</th>\n",
       "      <th>abdominal_pain</th>\n",
       "      <th>abnormal_menstruation</th>\n",
       "      <th>acidity</th>\n",
       "      <th>acute_liver_failure</th>\n",
       "      <th>altered_sensorium</th>\n",
       "      <th>anxiety</th>\n",
       "      <th>back_pain</th>\n",
       "      <th>belly_pain</th>\n",
       "      <th>blackheads</th>\n",
       "      <th>bladder_discomfort</th>\n",
       "      <th>...</th>\n",
       "      <th>weakness_in_limbs</th>\n",
       "      <th>weakness_of_one_body_side</th>\n",
       "      <th>weight_gain</th>\n",
       "      <th>weight_loss</th>\n",
       "      <th>yellow_crust_ooze</th>\n",
       "      <th>yellow_urine</th>\n",
       "      <th>yellowing_of_eyes</th>\n",
       "      <th>yellowish_skin</th>\n",
       "      <th>Disease</th>\n",
       "      <th>normalised_mean</th>\n",
       "    </tr>\n",
       "  </thead>\n",
       "  <tbody>\n",
       "    <tr>\n",
       "      <th>1186</th>\n",
       "      <td>0</td>\n",
       "      <td>0</td>\n",
       "      <td>0</td>\n",
       "      <td>0</td>\n",
       "      <td>0</td>\n",
       "      <td>0</td>\n",
       "      <td>0</td>\n",
       "      <td>0</td>\n",
       "      <td>0</td>\n",
       "      <td>0</td>\n",
       "      <td>...</td>\n",
       "      <td>0</td>\n",
       "      <td>0</td>\n",
       "      <td>0</td>\n",
       "      <td>0</td>\n",
       "      <td>0</td>\n",
       "      <td>0</td>\n",
       "      <td>0</td>\n",
       "      <td>0</td>\n",
       "      <td>(vertigo) paroymsal  positional vertigo</td>\n",
       "      <td>4.6</td>\n",
       "    </tr>\n",
       "    <tr>\n",
       "      <th>2865</th>\n",
       "      <td>0</td>\n",
       "      <td>0</td>\n",
       "      <td>0</td>\n",
       "      <td>0</td>\n",
       "      <td>0</td>\n",
       "      <td>0</td>\n",
       "      <td>0</td>\n",
       "      <td>0</td>\n",
       "      <td>0</td>\n",
       "      <td>0</td>\n",
       "      <td>...</td>\n",
       "      <td>0</td>\n",
       "      <td>0</td>\n",
       "      <td>0</td>\n",
       "      <td>0</td>\n",
       "      <td>0</td>\n",
       "      <td>0</td>\n",
       "      <td>0</td>\n",
       "      <td>0</td>\n",
       "      <td>(vertigo) paroymsal  positional vertigo</td>\n",
       "      <td>4.5</td>\n",
       "    </tr>\n",
       "    <tr>\n",
       "      <th>1187</th>\n",
       "      <td>0</td>\n",
       "      <td>0</td>\n",
       "      <td>0</td>\n",
       "      <td>0</td>\n",
       "      <td>0</td>\n",
       "      <td>0</td>\n",
       "      <td>0</td>\n",
       "      <td>0</td>\n",
       "      <td>0</td>\n",
       "      <td>0</td>\n",
       "      <td>...</td>\n",
       "      <td>0</td>\n",
       "      <td>0</td>\n",
       "      <td>0</td>\n",
       "      <td>0</td>\n",
       "      <td>0</td>\n",
       "      <td>0</td>\n",
       "      <td>0</td>\n",
       "      <td>0</td>\n",
       "      <td>(vertigo) paroymsal  positional vertigo</td>\n",
       "      <td>4.6</td>\n",
       "    </tr>\n",
       "    <tr>\n",
       "      <th>4136</th>\n",
       "      <td>0</td>\n",
       "      <td>0</td>\n",
       "      <td>0</td>\n",
       "      <td>0</td>\n",
       "      <td>0</td>\n",
       "      <td>0</td>\n",
       "      <td>0</td>\n",
       "      <td>0</td>\n",
       "      <td>0</td>\n",
       "      <td>0</td>\n",
       "      <td>...</td>\n",
       "      <td>0</td>\n",
       "      <td>0</td>\n",
       "      <td>0</td>\n",
       "      <td>0</td>\n",
       "      <td>0</td>\n",
       "      <td>0</td>\n",
       "      <td>0</td>\n",
       "      <td>0</td>\n",
       "      <td>(vertigo) paroymsal  positional vertigo</td>\n",
       "      <td>4.5</td>\n",
       "    </tr>\n",
       "    <tr>\n",
       "      <th>1188</th>\n",
       "      <td>0</td>\n",
       "      <td>0</td>\n",
       "      <td>0</td>\n",
       "      <td>0</td>\n",
       "      <td>0</td>\n",
       "      <td>0</td>\n",
       "      <td>0</td>\n",
       "      <td>0</td>\n",
       "      <td>0</td>\n",
       "      <td>0</td>\n",
       "      <td>...</td>\n",
       "      <td>0</td>\n",
       "      <td>0</td>\n",
       "      <td>0</td>\n",
       "      <td>0</td>\n",
       "      <td>0</td>\n",
       "      <td>0</td>\n",
       "      <td>0</td>\n",
       "      <td>0</td>\n",
       "      <td>(vertigo) paroymsal  positional vertigo</td>\n",
       "      <td>4.5</td>\n",
       "    </tr>\n",
       "  </tbody>\n",
       "</table>\n",
       "<p>5 rows × 133 columns</p>\n",
       "</div>"
      ],
      "text/plain": [
       "Symptom  abdominal_pain  abnormal_menstruation  acidity  acute_liver_failure  \\\n",
       "1186                  0                      0        0                    0   \n",
       "2865                  0                      0        0                    0   \n",
       "1187                  0                      0        0                    0   \n",
       "4136                  0                      0        0                    0   \n",
       "1188                  0                      0        0                    0   \n",
       "\n",
       "Symptom  altered_sensorium  anxiety  back_pain  belly_pain  blackheads  \\\n",
       "1186                     0        0          0           0           0   \n",
       "2865                     0        0          0           0           0   \n",
       "1187                     0        0          0           0           0   \n",
       "4136                     0        0          0           0           0   \n",
       "1188                     0        0          0           0           0   \n",
       "\n",
       "Symptom  bladder_discomfort  ...  weakness_in_limbs  \\\n",
       "1186                      0  ...                  0   \n",
       "2865                      0  ...                  0   \n",
       "1187                      0  ...                  0   \n",
       "4136                      0  ...                  0   \n",
       "1188                      0  ...                  0   \n",
       "\n",
       "Symptom  weakness_of_one_body_side  weight_gain  weight_loss  \\\n",
       "1186                             0            0            0   \n",
       "2865                             0            0            0   \n",
       "1187                             0            0            0   \n",
       "4136                             0            0            0   \n",
       "1188                             0            0            0   \n",
       "\n",
       "Symptom  yellow_crust_ooze  yellow_urine  yellowing_of_eyes  yellowish_skin  \\\n",
       "1186                     0             0                  0               0   \n",
       "2865                     0             0                  0               0   \n",
       "1187                     0             0                  0               0   \n",
       "4136                     0             0                  0               0   \n",
       "1188                     0             0                  0               0   \n",
       "\n",
       "Symptom                                  Disease  normalised_mean  \n",
       "1186     (vertigo) paroymsal  positional vertigo              4.6  \n",
       "2865     (vertigo) paroymsal  positional vertigo              4.5  \n",
       "1187     (vertigo) paroymsal  positional vertigo              4.6  \n",
       "4136     (vertigo) paroymsal  positional vertigo              4.5  \n",
       "1188     (vertigo) paroymsal  positional vertigo              4.5  \n",
       "\n",
       "[5 rows x 133 columns]"
      ]
     },
     "execution_count": 27,
     "metadata": {},
     "output_type": "execute_result"
    }
   ],
   "source": [
    "symptoms_df.head()"
   ]
  },
  {
   "cell_type": "code",
   "execution_count": 28,
   "metadata": {},
   "outputs": [],
   "source": [
    "labels=symptoms_df['Disease'].values\n",
    "data = symptoms_df.iloc[:,:-1]"
   ]
  },
  {
   "cell_type": "code",
   "execution_count": 29,
   "metadata": {},
   "outputs": [],
   "source": [
    "symptoms_df.to_csv(\"../disease_symptoms_weight.csv\")"
   ]
  }
 ],
 "metadata": {
  "interpreter": {
   "hash": "8c10a6dcdf646c628d2499f653d61cb5480067c67e4fac9d246e1b61c4f77867"
  },
  "kernelspec": {
   "display_name": "Python 3.9.5 64-bit ('machineLearning_and_dataScience': virtualenv)",
   "language": "python",
   "name": "python3"
  },
  "language_info": {
   "codemirror_mode": {
    "name": "ipython",
    "version": 3
   },
   "file_extension": ".py",
   "mimetype": "text/x-python",
   "name": "python",
   "nbconvert_exporter": "python",
   "pygments_lexer": "ipython3",
   "version": "3.9.5"
  },
  "orig_nbformat": 4
 },
 "nbformat": 4,
 "nbformat_minor": 2
}
